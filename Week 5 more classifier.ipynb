{
 "cells": [
  {
   "cell_type": "code",
   "execution_count": 16,
   "metadata": {},
   "outputs": [
    {
     "name": "stdout",
     "output_type": "stream",
     "text": [
      "1 0.9555555555555556\n",
      "3 0.9666666666666667\n",
      "5 0.9638888888888889\n",
      "7 0.9527777777777777\n",
      "9 0.95\n"
     ]
    }
   ],
   "source": [
    "import matplotlib.pyplot as plt\n",
    "from sklearn import datasets\n",
    "from sklearn.model_selection import train_test_split\n",
    "from sklearn.neighbors import KNeighborsClassifier\n",
    "\n",
    "digits = datasets.load_digits()\n",
    "labels = digits.target\n",
    "images = digits.images\n",
    "\n",
    "data = images.reshape(len(images), -1)\n",
    "x_train, x_test, y_train, y_test = train_test_split(data, labels, test_size=0.2, shuffle=False)\n",
    "k_para = [1, 3, 5, 7, 9]\n",
    "accuracy = []\n",
    "for para in k_para:\n",
    "    clf = KNeighborsClassifier(n_neighbors = para)\n",
    "    clf.fit(x_train, y_train)\n",
    "    acc= clf.score(x_test, y_test)\n",
    "    accuracy.append(acc)\n",
    "    print(para, acc)"
   ]
  },
  {
   "cell_type": "code",
   "execution_count": null,
   "metadata": {},
   "outputs": [],
   "source": []
  }
 ],
 "metadata": {
  "kernelspec": {
   "display_name": "Python [conda env:tf2.4]",
   "language": "python",
   "name": "conda-env-tf2.4-py"
  },
  "language_info": {
   "codemirror_mode": {
    "name": "ipython",
    "version": 3
   },
   "file_extension": ".py",
   "mimetype": "text/x-python",
   "name": "python",
   "nbconvert_exporter": "python",
   "pygments_lexer": "ipython3",
   "version": "3.8.5"
  }
 },
 "nbformat": 4,
 "nbformat_minor": 4
}
